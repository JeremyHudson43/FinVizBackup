{
 "cells": [
  {
   "cell_type": "code",
   "execution_count": 1,
   "id": "c1a67757",
   "metadata": {},
   "outputs": [],
   "source": [
    "from finviz.screener import Screener\n",
    "import os\n",
    "import datetime\n",
    "import pandas as pd\n",
    "import time\n",
    "import yfinance as yf\n",
    "from datetime import datetime\n",
    "from datetime import timedelta"
   ]
  },
  {
   "cell_type": "code",
   "execution_count": 2,
   "id": "74b34fe9",
   "metadata": {},
   "outputs": [],
   "source": [
    "def fetch_stocks():\n",
    "    # filters = ['ind_exchangetradedfund','sh_avgvol_o2000']\n",
    "    filters = ['sh_avgvol_o2000', 'ind_stocksonly', 'cap_largeover', 'sh_price_o10']\n",
    "    \n",
    "    stock_list = Screener(filters=filters, table='Performance', order='price')\n",
    "    \n",
    "    return stock_list"
   ]
  },
  {
   "cell_type": "code",
   "execution_count": 3,
   "id": "f0f27dc2",
   "metadata": {},
   "outputs": [],
   "source": [
    "def cal_VRRS(ticker, ref, rolling_length):\n",
    "    ticker_sma = ticker.rolling(rolling_length).mean()\n",
    "    ticker_change = ticker - ticker_sma\n",
    "    \n",
    "    ref_sma = ref.rolling(rolling_length).mean()\n",
    "    ref_change = ref - ref_sma\n",
    "    \n",
    "    return (ticker_change/ticker_sma - ref_change/ref_sma) * 100"
   ]
  },
  {
   "cell_type": "code",
   "execution_count": 4,
   "id": "1f4ca879",
   "metadata": {},
   "outputs": [],
   "source": [
    "def value_to_float(x):\n",
    "    if type(x) == float or type(x) == int:\n",
    "        return x\n",
    "    if 'K' in x:\n",
    "        if len(x) > 1:\n",
    "            return float(x.replace('K', '')) * 1000\n",
    "        return 1000.0\n",
    "    if 'M' in x:\n",
    "        if len(x) > 1:\n",
    "            return float(x.replace('M', '')) * 1000000\n",
    "        return 1000000.0\n",
    "    if 'B' in x:\n",
    "        if len(x) > 1:\n",
    "            return float(x.replace('B', '')) * 1000000000\n",
    "        return 1000000000.0\n",
    "    if 'T' in x:\n",
    "        if len(x) > 1:\n",
    "            return float(x.replace('T', '')) * 1000000000000\n",
    "        return 1000000000000000.0\n",
    "\n",
    "    return 0.0"
   ]
  },
  {
   "cell_type": "code",
   "execution_count": 5,
   "id": "ec3d910a",
   "metadata": {},
   "outputs": [],
   "source": [
    "ticker_dict = {}"
   ]
  },
  {
   "cell_type": "code",
   "execution_count": 6,
   "id": "d0114513",
   "metadata": {},
   "outputs": [
    {
     "name": "stderr",
     "output_type": "stream",
     "text": [
      "100%|██████████████████████████████████████████████████████████████████████████████████| 19/19 [00:07<00:00,  2.70it/s]\n"
     ]
    }
   ],
   "source": [
    "stock_list = fetch_stocks()"
   ]
  },
  {
   "cell_type": "code",
   "execution_count": 18,
   "id": "db5f9dd0",
   "metadata": {},
   "outputs": [
    {
     "name": "stdout",
     "output_type": "stream",
     "text": [
      "LCID  || VRRS:  2.06 || Week_Ago_VRRS:  -10.38  ||  12.45\n",
      "PDD  || VRRS:  34.34 || Week_Ago_VRRS:  48.46  ||  -14.12\n",
      "MRNA  || VRRS:  25.12 || Week_Ago_VRRS:  13.94  ||  11.18\n"
     ]
    }
   ],
   "source": [
    "start_date = \"2021-01-01\"\n",
    "# end_date = \"2022-05-28\"\n",
    "\n",
    "end_date = datetime.today().date()\n",
    "\n",
    "spy = yf.Ticker(\"SPY\")\n",
    "spy = spy.history(start=start_date, end=end_date, interval='5d')['Close'].dropna()\n",
    "\n",
    "for stock in stock_list:\n",
    "    \n",
    "    ticker = stock['Ticker']\n",
    "    \n",
    "    avg_volume = value_to_float(stock['Avg Volume'])\n",
    "    \n",
    "    if avg_volume > 5000000:\n",
    "\n",
    "        stock = yf.Ticker(ticker)    \n",
    "\n",
    "        stock_close = stock.history(start=start_date, end=end_date, interval='5d')['Close'].dropna()\n",
    "        stock_now = stock.history(start=start_date, end=end_date, interval='5d').dropna()\n",
    "\n",
    "        # Calculate the VRRS indicator:\n",
    "        rolling_length = 21 \n",
    "\n",
    "        vrrs = cal_VRRS(stock_close, spy, rolling_length).iloc[-1]\n",
    "        week_ago_VRRS = cal_VRRS(stock_close.iloc[:-1], spy.iloc[:-1], rolling_length).iloc[-1]\n",
    "\n",
    "        difference = float(vrrs) - float(week_ago_VRRS)\n",
    "\n",
    "        if abs(difference) > 10:\n",
    "            print(ticker, ' || VRRS: ', round(vrrs, 2), '|| Week_Ago_VRRS: ', round(week_ago_VRRS, 2), ' || ', round(difference, 2))"
   ]
  },
  {
   "cell_type": "code",
   "execution_count": null,
   "id": "3324dcfc",
   "metadata": {},
   "outputs": [],
   "source": []
  }
 ],
 "metadata": {
  "kernelspec": {
   "display_name": "Python 3 (ipykernel)",
   "language": "python",
   "name": "python3"
  },
  "language_info": {
   "codemirror_mode": {
    "name": "ipython",
    "version": 3
   },
   "file_extension": ".py",
   "mimetype": "text/x-python",
   "name": "python",
   "nbconvert_exporter": "python",
   "pygments_lexer": "ipython3",
   "version": "3.9.12"
  }
 },
 "nbformat": 4,
 "nbformat_minor": 5
}
