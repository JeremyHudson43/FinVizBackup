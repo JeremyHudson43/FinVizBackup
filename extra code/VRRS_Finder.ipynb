{
 "cells": [
  {
   "cell_type": "code",
   "execution_count": 36,
   "id": "c1a67757",
   "metadata": {},
   "outputs": [],
   "source": [
    "from finviz.screener import Screener\n",
    "import os\n",
    "import datetime\n",
    "import pandas as pd\n",
    "import time\n",
    "import yfinance as yf\n",
    "from datetime import datetime\n",
    "from datetime import timedelta"
   ]
  },
  {
   "cell_type": "code",
   "execution_count": 37,
   "id": "74b34fe9",
   "metadata": {},
   "outputs": [],
   "source": [
    "def fetch_stocks():\n",
    "    filters = ['ind_exchangetradedfund','sh_avgvol_o2000']\n",
    "    # filters = ['sh_avgvol_o2000', 'sh_price_o20']\n",
    "    stock_list = Screener(filters=filters, table='Performance', order='price')\n",
    "    \n",
    "    return stock_list"
   ]
  },
  {
   "cell_type": "code",
   "execution_count": 38,
   "id": "f0f27dc2",
   "metadata": {},
   "outputs": [],
   "source": [
    "def cal_VRRS(ticker, ref, rolling_length):\n",
    "    ticker_sma = ticker.rolling(rolling_length).mean()\n",
    "    ticker_change = ticker - ticker_sma\n",
    "    \n",
    "    ref_sma = ref.rolling(rolling_length).mean()\n",
    "    ref_change = ref - ref_sma\n",
    "    \n",
    "    return (ticker_change/ticker_sma - ref_change/ref_sma) * 100"
   ]
  },
  {
   "cell_type": "code",
   "execution_count": 39,
   "id": "52991e94",
   "metadata": {},
   "outputs": [],
   "source": [
    "def get_wr(high, low, close, lookback):\n",
    "    highh = high.rolling(lookback).max()\n",
    "    lowl = low.rolling(lookback).min()\n",
    "    wr = 100 * ((close - highh) / (highh - lowl))\n",
    "    return wr"
   ]
  },
  {
   "cell_type": "code",
   "execution_count": 40,
   "id": "830f0550",
   "metadata": {},
   "outputs": [],
   "source": [
    "def value_to_float(x):\n",
    "    if type(x) == float or type(x) == int:\n",
    "        return x\n",
    "    if 'K' in x:\n",
    "        if len(x) > 1:\n",
    "            return float(x.replace('K', '')) * 1000\n",
    "        return 1000.0\n",
    "    if 'M' in x:\n",
    "        if len(x) > 1:\n",
    "            return float(x.replace('M', '')) * 1000000\n",
    "        return 1000000.0\n",
    "    if 'B' in x:\n",
    "        if len(x) > 1:\n",
    "            return float(x.replace('B', '')) * 1000000000\n",
    "        return 1000000000.0\n",
    "    if 'T' in x:\n",
    "        if len(x) > 1:\n",
    "            return float(x.replace('T', '')) * 1000000000000\n",
    "        return 1000000000000000.0\n",
    "\n",
    "    return 0.0"
   ]
  },
  {
   "cell_type": "code",
   "execution_count": 41,
   "id": "ec3d910a",
   "metadata": {},
   "outputs": [],
   "source": [
    "ticker_dict = {}"
   ]
  },
  {
   "cell_type": "code",
   "execution_count": 42,
   "id": "d0114513",
   "metadata": {},
   "outputs": [
    {
     "name": "stderr",
     "output_type": "stream",
     "text": [
      "100%|██████████████████████████████████████████████████████████████████████████████████| 11/11 [00:04<00:00,  2.58it/s]\n"
     ]
    }
   ],
   "source": [
    "stock_list = fetch_stocks()"
   ]
  },
  {
   "cell_type": "code",
   "execution_count": 47,
   "id": "db5f9dd0",
   "metadata": {},
   "outputs": [
    {
     "name": "stdout",
     "output_type": "stream",
     "text": [
      "LABU -11.09 23.65\n",
      "UVXY -9.58 -9.92\n",
      "PSQ 12.75 -7.28\n",
      "SH 12.58 -5.07\n",
      "PDBC 5.31 -8.92\n",
      "SLV -9.54 -7.93\n",
      "SPXU 18.96 -10.86\n",
      "UNG 3.21 -10.14\n",
      "QID 15.59 -12.42\n",
      "SPXS 18.83 -10.95\n",
      "GDX -12.77 -5.98\n",
      "GDXJ -17.75 -6.46\n",
      "KWEB 12.45 -4.62\n",
      "IAU -0.18 -6.27\n",
      "SDOW 16.78 -6.87\n",
      "TNA -21.05 4.62\n",
      "TZA 17.47 -13.56\n",
      "XME -11.12 -5.88\n",
      "ERX -7.66 -8.6\n",
      "QLD -13.4 4.73\n",
      "SDS 16.51 -8.05\n",
      "SQQQ 15.35 -17.51\n",
      "SOXS 29.87 -11.1\n",
      "XLE 1.77 -5.68\n",
      "USO 10.03 -9.43\n",
      "XBI 10.22 9.71\n",
      "XOP -0.93 -7.26\n",
      "GLD -0.27 -6.27\n"
     ]
    }
   ],
   "source": [
    "start_date = \"2017-01-01\"\n",
    "# end_date = \"2022-05-28\"\n",
    "\n",
    "end_date = datetime.today().date()\n",
    "\n",
    "spy = yf.Ticker(\"SPY\")\n",
    "spy = spy.history(start=start_date, end=end_date, interval='5d')['Close'].dropna()\n",
    "\n",
    "for stock in stock_list:\n",
    "    \n",
    "    ticker = stock['Ticker']\n",
    "    \n",
    "    avg_volume = value_to_float(stock['Avg Volume'])\n",
    "    \n",
    "    if avg_volume > 5000000:\n",
    "\n",
    "        stock = yf.Ticker(ticker)    \n",
    "\n",
    "        stock_close = stock.history(start=start_date, end=end_date, interval='5d')['Close'].dropna()\n",
    "        stock_now = stock.history(start=start_date, end=end_date, interval='5d').dropna()\n",
    "        \n",
    "        # williams = get_wr(stock_now['High'], stock_now['Low'], stock_now['Close'], 2).iloc[-1]\n",
    "\n",
    "        # Calculate the VRRS indicator:\n",
    "        rolling_length = 21 \n",
    "\n",
    "        vrrs = cal_VRRS(stock_close, spy, rolling_length).iloc[-1]\n",
    "        week_ago_VRRS = cal_VRRS(stock_close.iloc[:-1], spy.iloc[:-1], rolling_length).iloc[-1]\n",
    "        \n",
    "        difference = float(vrrs) - float(week_ago_VRRS)\n",
    "\n",
    "        if abs(difference) > 4:\n",
    "            print(ticker, round(vrrs, 2), round(difference, 2))"
   ]
  },
  {
   "cell_type": "code",
   "execution_count": null,
   "id": "6126473a",
   "metadata": {},
   "outputs": [],
   "source": []
  }
 ],
 "metadata": {
  "kernelspec": {
   "display_name": "Python 3 (ipykernel)",
   "language": "python",
   "name": "python3"
  },
  "language_info": {
   "codemirror_mode": {
    "name": "ipython",
    "version": 3
   },
   "file_extension": ".py",
   "mimetype": "text/x-python",
   "name": "python",
   "nbconvert_exporter": "python",
   "pygments_lexer": "ipython3",
   "version": "3.9.12"
  }
 },
 "nbformat": 4,
 "nbformat_minor": 5
}
