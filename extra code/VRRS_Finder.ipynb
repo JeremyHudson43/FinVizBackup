{
 "cells": [
  {
   "cell_type": "code",
   "execution_count": 1,
   "id": "c1a67757",
   "metadata": {},
   "outputs": [],
   "source": [
    "from finviz.screener import Screener\n",
    "import os\n",
    "import datetime\n",
    "import pandas as pd\n",
    "import time\n",
    "import yfinance as yf"
   ]
  },
  {
   "cell_type": "code",
   "execution_count": 2,
   "id": "74b34fe9",
   "metadata": {},
   "outputs": [],
   "source": [
    "def fetch_stocks():\n",
    "    # filters = ['ind_exchangetradedfund','sh_avgvol_o2000']\n",
    "    filters = ['sh_avgvol_o2000', 'sh_price_o20']\n",
    "    stock_list = Screener(filters=filters, table='Performance', order='price')\n",
    "    \n",
    "    return stock_list"
   ]
  },
  {
   "cell_type": "code",
   "execution_count": 3,
   "id": "d0114513",
   "metadata": {},
   "outputs": [
    {
     "name": "stderr",
     "output_type": "stream",
     "text": [
      "100%|██████████████████████████████████████████████████████████████████████████████████| 31/31 [00:12<00:00,  2.58it/s]\n"
     ]
    }
   ],
   "source": [
    "stock_list = fetch_stocks()"
   ]
  },
  {
   "cell_type": "code",
   "execution_count": 4,
   "id": "f0f27dc2",
   "metadata": {},
   "outputs": [],
   "source": [
    "def cal_VRRS(ticker, ref, vol_weight, rolling_length):\n",
    "    ticker_sma = ticker.rolling(rolling_length).mean()\n",
    "    ticker_change = ticker - ticker_sma\n",
    "    \n",
    "    ref_sma = ref.rolling(rolling_length).mean()\n",
    "    ref_change = ref - ref_sma\n",
    "    \n",
    "    return (ticker_change/ticker_sma - ref_change/ref_sma) * vol_weight * 100"
   ]
  },
  {
   "cell_type": "code",
   "execution_count": 5,
   "id": "ec3d910a",
   "metadata": {},
   "outputs": [],
   "source": [
    "ticker_dict = {}"
   ]
  },
  {
   "cell_type": "code",
   "execution_count": null,
   "id": "db5f9dd0",
   "metadata": {},
   "outputs": [],
   "source": [
    "start_date = \"2017-01-01\"\n",
    "end_date = \"2022-05-30\"\n",
    "\n",
    "\n",
    "spy = yf.Ticker(\"SPY\")\n",
    "spy = spy.history(start=start_date, end=end_date)['Close']  \n",
    "\n",
    "for stock in stock_list:\n",
    "    \n",
    "    ticker = stock['Ticker']\n",
    "\n",
    "    stock = yf.Ticker(ticker)    \n",
    "    stock = stock.history(start=start_date, end=end_date)['Close']\n",
    "\n",
    "    # Calculate the VRRS indicator:\n",
    "    rolling_length = 21\n",
    "    vol_weight = 1\n",
    "    \n",
    "    vrrs = cal_VRRS(stock, spy, vol_weight, rolling_length)\n",
    "    \n",
    "    ticker_dict[ticker] = vrrs.iloc[-1]"
   ]
  },
  {
   "cell_type": "code",
   "execution_count": null,
   "id": "4c966637",
   "metadata": {},
   "outputs": [],
   "source": [
    "sorted_x = sorted(ticker_dict.items(), key=lambda x: x[1])"
   ]
  },
  {
   "cell_type": "code",
   "execution_count": null,
   "id": "ffc8e66f",
   "metadata": {},
   "outputs": [],
   "source": [
    "for x in sorted_x:\n",
    "    if abs(x[1]) > 15: \n",
    "        print(x[0], (round(x[1], 2)))"
   ]
  }
 ],
 "metadata": {
  "kernelspec": {
   "display_name": "Python 3 (ipykernel)",
   "language": "python",
   "name": "python3"
  },
  "language_info": {
   "codemirror_mode": {
    "name": "ipython",
    "version": 3
   },
   "file_extension": ".py",
   "mimetype": "text/x-python",
   "name": "python",
   "nbconvert_exporter": "python",
   "pygments_lexer": "ipython3",
   "version": "3.9.12"
  }
 },
 "nbformat": 4,
 "nbformat_minor": 5
}
