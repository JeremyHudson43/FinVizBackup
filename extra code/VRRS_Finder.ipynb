{
 "cells": [
  {
   "cell_type": "code",
   "execution_count": 1,
   "id": "c1a67757",
   "metadata": {},
   "outputs": [],
   "source": [
    "from finviz.screener import Screener\n",
    "import os\n",
    "import datetime\n",
    "import pandas as pd\n",
    "import time\n",
    "import yfinance as yf\n",
    "from datetime import datetime"
   ]
  },
  {
   "cell_type": "code",
   "execution_count": 2,
   "id": "74b34fe9",
   "metadata": {},
   "outputs": [],
   "source": [
    "def fetch_stocks():\n",
    "    # filters = ['ind_exchangetradedfund','sh_avgvol_o2000', 'sh_price_o20']\n",
    "    filters = ['sh_avgvol_o2000', 'sh_price_o20']\n",
    "    stock_list = Screener(filters=filters, table='Performance', order='price')\n",
    "    \n",
    "    return stock_list"
   ]
  },
  {
   "cell_type": "code",
   "execution_count": 3,
   "id": "f0f27dc2",
   "metadata": {},
   "outputs": [],
   "source": [
    "def cal_VRRS(ticker, ref, rolling_length):\n",
    "    ticker_sma = ticker.rolling(rolling_length).mean()\n",
    "    ticker_change = ticker - ticker_sma\n",
    "    \n",
    "    ref_sma = ref.rolling(rolling_length).mean()\n",
    "    ref_change = ref - ref_sma\n",
    "    \n",
    "    return (ticker_change/ticker_sma - ref_change/ref_sma) * 100"
   ]
  },
  {
   "cell_type": "code",
   "execution_count": 4,
   "id": "52991e94",
   "metadata": {},
   "outputs": [],
   "source": [
    "def get_wr(high, low, close, lookback):\n",
    "    highh = high.rolling(lookback).max()\n",
    "    lowl = low.rolling(lookback).min()\n",
    "    wr = 100 * ((close - highh) / (highh - lowl))\n",
    "    return wr"
   ]
  },
  {
   "cell_type": "code",
   "execution_count": 5,
   "id": "06c7009e",
   "metadata": {},
   "outputs": [],
   "source": [
    "def value_to_float(x):\n",
    "    if type(x) == float or type(x) == int:\n",
    "        return x\n",
    "    if 'K' in x:\n",
    "        if len(x) > 1:\n",
    "            return float(x.replace('K', '')) * 1000\n",
    "        return 1000.0\n",
    "    if 'M' in x:\n",
    "        if len(x) > 1:\n",
    "            return float(x.replace('M', '')) * 1000000\n",
    "        return 1000000.0\n",
    "    if 'B' in x:\n",
    "        if len(x) > 1:\n",
    "            return float(x.replace('B', '')) * 1000000000\n",
    "        return 1000000000.0\n",
    "    if 'T' in x:\n",
    "        if len(x) > 1:\n",
    "            return float(x.replace('T', '')) * 1000000000000\n",
    "        return 1000000000000000.0\n",
    "\n",
    "    return 0.0"
   ]
  },
  {
   "cell_type": "code",
   "execution_count": 6,
   "id": "ec3d910a",
   "metadata": {},
   "outputs": [],
   "source": [
    "ticker_dict = {}"
   ]
  },
  {
   "cell_type": "code",
   "execution_count": 7,
   "id": "d0114513",
   "metadata": {},
   "outputs": [
    {
     "name": "stderr",
     "output_type": "stream",
     "text": [
      "100%|██████████████████████████████████████████████████████████████████████████████████| 10/10 [00:03<00:00,  3.20it/s]\n"
     ]
    }
   ],
   "source": [
    "stock_list = fetch_stocks()"
   ]
  },
  {
   "cell_type": "code",
   "execution_count": null,
   "id": "db5f9dd0",
   "metadata": {},
   "outputs": [
    {
     "name": "stdout",
     "output_type": "stream",
     "text": [
      "UNG 3.212346548038805\n",
      "QID 15.586350488984452\n",
      "SJNK 3.336352192584333\n",
      "GDX -12.768410156816422\n",
      "TQQQ -26.620036556942043\n",
      "IAU -0.18148997778604375\n",
      "USHY 2.8453304540350235\n",
      "QLD -13.403055966271394\n",
      "SVXY 5.0578288922176045\n",
      "SQQQ 15.347290267589697\n",
      "- XLC: No data found for this date range, symbol may be delisted\n",
      "HYG 2.3225559275436702\n",
      "VCSH 5.624789323023787\n",
      "VCIT 2.823214188981675\n",
      "XBI 10.220208520983453\n",
      "JNK 1.6374432537031933\n",
      "SHV 6.9127387713363175\n",
      "LQD 2.0990371251471123\n"
     ]
    }
   ],
   "source": [
    "start_date = \"2017-01-01\"\n",
    "# end_date = \"2022-05-28\"\n",
    "\n",
    "end_date = datetime.today().date()\n",
    "\n",
    "spy = yf.Ticker(\"SPY\")\n",
    "spy = spy.history(start=start_date, end=end_date, interval='5d')['Close'].dropna()\n",
    "\n",
    "for stock in stock_list:\n",
    "    \n",
    "    ticker = stock['Ticker']\n",
    "    \n",
    "    avg_volume = value_to_float(stock['Avg Volume'])\n",
    "    \n",
    "    if avg_volume > 5000000:\n",
    "\n",
    "        stock = yf.Ticker(ticker)    \n",
    "\n",
    "        stock_close = stock.history(start=start_date, end=end_date, interval='5d')['Close'].dropna()\n",
    "        stock = stock.history(start=start_date, end=end_date, interval='5d').dropna()\n",
    "\n",
    "        williams = get_wr(stock['High'], stock['Low'], stock['Close'], 2).iloc[-1]\n",
    "\n",
    "        # Calculate the VRRS indicator:\n",
    "        rolling_length = 21 \n",
    "\n",
    "        vrrs = cal_VRRS(stock_close, spy, rolling_length)\n",
    "\n",
    "        if williams <= -85 or williams >= -15: \n",
    "\n",
    "            ticker_dict[ticker] = vrrs.iloc[-1]\n",
    "\n",
    "            print(ticker, vrrs.iloc[-1])"
   ]
  },
  {
   "cell_type": "code",
   "execution_count": null,
   "id": "4c966637",
   "metadata": {},
   "outputs": [],
   "source": [
    "sorted_x = sorted(ticker_dict.items(), key=lambda x: x[1])"
   ]
  },
  {
   "cell_type": "code",
   "execution_count": null,
   "id": "ffc8e66f",
   "metadata": {},
   "outputs": [],
   "source": [
    "for x in sorted_x:\n",
    "    if abs(x[1]) > 10: \n",
    "        print(x[0], (round(x[1], 2)))"
   ]
  }
 ],
 "metadata": {
  "kernelspec": {
   "display_name": "Python 3 (ipykernel)",
   "language": "python",
   "name": "python3"
  },
  "language_info": {
   "codemirror_mode": {
    "name": "ipython",
    "version": 3
   },
   "file_extension": ".py",
   "mimetype": "text/x-python",
   "name": "python",
   "nbconvert_exporter": "python",
   "pygments_lexer": "ipython3",
   "version": "3.9.12"
  }
 },
 "nbformat": 4,
 "nbformat_minor": 5
}
