{
 "cells": [
  {
   "cell_type": "code",
   "execution_count": 9,
   "id": "c1a67757",
   "metadata": {},
   "outputs": [],
   "source": [
    "from finviz.screener import Screener\n",
    "import os\n",
    "import datetime\n",
    "import pandas as pd\n",
    "import time\n",
    "import yfinance as yf\n",
    "from datetime import datetime\n",
    "from datetime import timedelta"
   ]
  },
  {
   "cell_type": "code",
   "execution_count": 10,
   "id": "74b34fe9",
   "metadata": {},
   "outputs": [],
   "source": [
    "def fetch_stocks():\n",
    "    filters = ['ind_exchangetradedfund','sh_avgvol_o2000']\n",
    "    # filters = ['sh_avgvol_o2000', 'ind_stocksonly', 'cap_largeover', 'sh_price_o10']\n",
    "    \n",
    "    stock_list = Screener(filters=filters, table='Performance', order='price')\n",
    "    \n",
    "    return stock_list"
   ]
  },
  {
   "cell_type": "code",
   "execution_count": 11,
   "id": "f0f27dc2",
   "metadata": {},
   "outputs": [],
   "source": [
    "def cal_VRRS(ticker, ref, rolling_length):\n",
    "    ticker_sma = ticker.rolling(rolling_length).mean()\n",
    "    ticker_change = ticker - ticker_sma\n",
    "    \n",
    "    ref_sma = ref.rolling(rolling_length).mean()\n",
    "    ref_change = ref - ref_sma\n",
    "    \n",
    "    return (ticker_change/ticker_sma - ref_change/ref_sma) * 100"
   ]
  },
  {
   "cell_type": "code",
   "execution_count": 12,
   "id": "3211f029",
   "metadata": {},
   "outputs": [],
   "source": [
    "def get_wr(high, low, close, lookback):\n",
    "    highh = high.rolling(lookback).max()\n",
    "    lowl = low.rolling(lookback).min()\n",
    "    wr = 100 * ((close - highh) / (highh - lowl))\n",
    "    return wr"
   ]
  },
  {
   "cell_type": "code",
   "execution_count": 13,
   "id": "22d40567",
   "metadata": {},
   "outputs": [],
   "source": [
    "def value_to_float(x):\n",
    "    if type(x) == float or type(x) == int:\n",
    "        return x\n",
    "    if 'K' in x:\n",
    "        if len(x) > 1:\n",
    "            return float(x.replace('K', '')) * 1000\n",
    "        return 1000.0\n",
    "    if 'M' in x:\n",
    "        if len(x) > 1:\n",
    "            return float(x.replace('M', '')) * 1000000\n",
    "        return 1000000.0\n",
    "    if 'B' in x:\n",
    "        if len(x) > 1:\n",
    "            return float(x.replace('B', '')) * 1000000000\n",
    "        return 1000000000.0\n",
    "    if 'T' in x:\n",
    "        if len(x) > 1:\n",
    "            return float(x.replace('T', '')) * 1000000000000\n",
    "        return 1000000000000000.0\n",
    "\n",
    "    return 0.0"
   ]
  },
  {
   "cell_type": "code",
   "execution_count": 14,
   "id": "ec3d910a",
   "metadata": {},
   "outputs": [],
   "source": [
    "ticker_dict = {}"
   ]
  },
  {
   "cell_type": "code",
   "execution_count": 15,
   "id": "d0114513",
   "metadata": {},
   "outputs": [
    {
     "name": "stderr",
     "output_type": "stream",
     "text": [
      "100%|██████████████████████████████████████████████████████████████████████████████████| 11/11 [00:03<00:00,  2.92it/s]\n"
     ]
    }
   ],
   "source": [
    "stock_list = fetch_stocks()"
   ]
  },
  {
   "cell_type": "code",
   "execution_count": null,
   "id": "db5f9dd0",
   "metadata": {},
   "outputs": [
    {
     "name": "stdout",
     "output_type": "stream",
     "text": [
      "LABU  || VRRS:  44.7 || Previous VRRS:  42.68  ||  45.75\n",
      "SVIX  || VRRS:  4.84 || Previous VRRS:  2.87  ||  5.89\n",
      "SCO  || VRRS:  6.54 || Previous VRRS:  14.09  ||  7.58\n",
      "TQQQ  || VRRS:  6.69 || Previous VRRS:  5.34  ||  7.74\n",
      "TECL  || VRRS:  4.71 || Previous VRRS:  3.35  ||  5.75\n",
      "ARKG  || VRRS:  14.89 || Previous VRRS:  16.52  ||  15.94\n",
      "QLD  || VRRS:  4.4 || Previous VRRS:  3.69  ||  5.45\n",
      "ARKK  || VRRS:  9.83 || Previous VRRS:  10.26  ||  10.88\n"
     ]
    }
   ],
   "source": [
    "start_date = \"2017-01-01\"\n",
    "end_date = \"2022-07-09\"\n",
    "\n",
    "interval_time = '1d'\n",
    "\n",
    "# end_date = datetime.today().date()\n",
    "\n",
    "spy = yf.Ticker(\"SPY\")\n",
    "spy = spy.history(start=start_date, end=end_date, interval=interval_time)['Close'].dropna()\n",
    "\n",
    "for stock in stock_list:\n",
    "    \n",
    "    ticker = stock['Ticker']\n",
    "    \n",
    "    # avg_volume = value_to_float(stock['Avg Volume'])\n",
    "    # if avg_volume > 2000000:\n",
    "\n",
    "    stock = yf.Ticker(ticker)    \n",
    "\n",
    "    stock_close = stock.history(start=start_date, end=end_date, interval=interval_time)['Close'].dropna()\n",
    "    stock_now = stock.history(start=start_date, end=end_date, interval=interval_time).dropna()\n",
    "    \n",
    "    williams = get_wr(stock_now['High'], stock_now['Low'], stock_now['Close'], 2).iloc[-1]\n",
    "\n",
    "    # Calculate the VRRS indicator:\n",
    "    rolling_length = 21 \n",
    "\n",
    "    vrrs = cal_VRRS(stock_close, spy, rolling_length).iloc[-1]\n",
    "    previous_VRRS = cal_VRRS(stock_close.iloc[:-1], spy.iloc[:-1], rolling_length).iloc[-1]\n",
    "\n",
    "    difference = vrrs - week_ago_VRRS\n",
    "    difference_two = previous_VRRS - vrrs\n",
    "\n",
    "    if  williams >= -30 and difference > 5:\n",
    "        # print(ticker)\n",
    "        print(ticker, ' || VRRS: ', round(vrrs, 2), '|| Previous VRRS: ', round(previous_VRRS, 2), ' || ', round(difference, 2))\n",
    "    elif  williams <= -70 and difference_two > 5:\n",
    "        # print(ticker)\n",
    "        print(ticker, ' || VRRS: ', round(vrrs, 2), '|| Previous VRRS: ', round(previous_VRRS, 2), ' || ', round(difference, 2))"
   ]
  }
 ],
 "metadata": {
  "kernelspec": {
   "display_name": "Python 3 (ipykernel)",
   "language": "python",
   "name": "python3"
  },
  "language_info": {
   "codemirror_mode": {
    "name": "ipython",
    "version": 3
   },
   "file_extension": ".py",
   "mimetype": "text/x-python",
   "name": "python",
   "nbconvert_exporter": "python",
   "pygments_lexer": "ipython3",
   "version": "3.9.12"
  }
 },
 "nbformat": 4,
 "nbformat_minor": 5
}
