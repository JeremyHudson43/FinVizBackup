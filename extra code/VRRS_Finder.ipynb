{
 "cells": [
  {
   "cell_type": "code",
   "execution_count": 1,
   "id": "c1a67757",
   "metadata": {},
   "outputs": [],
   "source": [
    "from finviz.screener import Screener\n",
    "import os\n",
    "import datetime\n",
    "import pandas as pd\n",
    "import time\n",
    "import yfinance as yf\n",
    "from datetime import datetime\n",
    "from datetime import timedelta"
   ]
  },
  {
   "cell_type": "code",
   "execution_count": 2,
   "id": "74b34fe9",
   "metadata": {},
   "outputs": [],
   "source": [
    "def fetch_stocks():\n",
    "    filters = ['ind_exchangetradedfund','sh_avgvol_o2000']\n",
    "    # filters = ['sh_avgvol_o2000', 'ind_stocksonly', 'cap_largeover', 'sh_price_o10']\n",
    "    \n",
    "    stock_list = Screener(filters=filters, table='Performance', order='price')\n",
    "    \n",
    "    return stock_list"
   ]
  },
  {
   "cell_type": "code",
   "execution_count": 3,
   "id": "f0f27dc2",
   "metadata": {},
   "outputs": [],
   "source": [
    "def cal_VRRS(ticker, ref, rolling_length):\n",
    "    ticker_sma = ticker.rolling(rolling_length).mean()\n",
    "    ticker_change = ticker - ticker_sma\n",
    "    \n",
    "    ref_sma = ref.rolling(rolling_length).mean()\n",
    "    ref_change = ref - ref_sma\n",
    "    \n",
    "    return (ticker_change/ticker_sma - ref_change/ref_sma) * 100"
   ]
  },
  {
   "cell_type": "code",
   "execution_count": 4,
   "id": "22d40567",
   "metadata": {},
   "outputs": [],
   "source": [
    "def value_to_float(x):\n",
    "    if type(x) == float or type(x) == int:\n",
    "        return x\n",
    "    if 'K' in x:\n",
    "        if len(x) > 1:\n",
    "            return float(x.replace('K', '')) * 1000\n",
    "        return 1000.0\n",
    "    if 'M' in x:\n",
    "        if len(x) > 1:\n",
    "            return float(x.replace('M', '')) * 1000000\n",
    "        return 1000000.0\n",
    "    if 'B' in x:\n",
    "        if len(x) > 1:\n",
    "            return float(x.replace('B', '')) * 1000000000\n",
    "        return 1000000000.0\n",
    "    if 'T' in x:\n",
    "        if len(x) > 1:\n",
    "            return float(x.replace('T', '')) * 1000000000000\n",
    "        return 1000000000000000.0\n",
    "\n",
    "    return 0.0"
   ]
  },
  {
   "cell_type": "code",
   "execution_count": 5,
   "id": "ec3d910a",
   "metadata": {},
   "outputs": [],
   "source": [
    "ticker_dict = {}"
   ]
  },
  {
   "cell_type": "code",
   "execution_count": 6,
   "id": "d0114513",
   "metadata": {},
   "outputs": [
    {
     "name": "stderr",
     "output_type": "stream",
     "text": [
      "100%|██████████████████████████████████████████████████████████████████████████████████| 11/11 [00:04<00:00,  2.60it/s]\n"
     ]
    }
   ],
   "source": [
    "stock_list = fetch_stocks()"
   ]
  },
  {
   "cell_type": "code",
   "execution_count": 8,
   "id": "db5f9dd0",
   "metadata": {},
   "outputs": [
    {
     "name": "stdout",
     "output_type": "stream",
     "text": [
      "LABU  || VRRS:  -11.09 || Week_Ago_VRRS:  -34.75  ||  23.65\n",
      "UVXY  || VRRS:  -9.58 || Week_Ago_VRRS:  0.34  ||  -9.92\n",
      "PSQ  || VRRS:  12.75 || Week_Ago_VRRS:  20.02  ||  -7.28\n",
      "SH  || VRRS:  12.58 || Week_Ago_VRRS:  17.65  ||  -5.07\n",
      "PDBC  || VRRS:  5.31 || Week_Ago_VRRS:  14.23  ||  -8.92\n",
      "SLV  || VRRS:  -9.54 || Week_Ago_VRRS:  -1.61  ||  -7.93\n",
      "SPXU  || VRRS:  18.96 || Week_Ago_VRRS:  29.82  ||  -10.86\n",
      "UNG  || VRRS:  3.21 || Week_Ago_VRRS:  13.35  ||  -10.14\n",
      "QID  || VRRS:  15.59 || Week_Ago_VRRS:  28.0  ||  -12.42\n",
      "SPXS  || VRRS:  18.83 || Week_Ago_VRRS:  29.78  ||  -10.95\n",
      "GDX  || VRRS:  -12.77 || Week_Ago_VRRS:  -6.78  ||  -5.98\n",
      "GDXJ  || VRRS:  -17.75 || Week_Ago_VRRS:  -11.3  ||  -6.46\n",
      "KWEB  || VRRS:  12.45 || Week_Ago_VRRS:  17.06  ||  -4.62\n",
      "IAU  || VRRS:  -0.18 || Week_Ago_VRRS:  6.09  ||  -6.27\n",
      "SDOW  || VRRS:  16.78 || Week_Ago_VRRS:  23.65  ||  -6.87\n",
      "TNA  || VRRS:  -21.05 || Week_Ago_VRRS:  -25.66  ||  4.62\n",
      "TZA  || VRRS:  17.47 || Week_Ago_VRRS:  31.03  ||  -13.56\n",
      "XME  || VRRS:  -11.12 || Week_Ago_VRRS:  -5.25  ||  -5.88\n",
      "ERX  || VRRS:  -7.66 || Week_Ago_VRRS:  0.94  ||  -8.6\n",
      "QLD  || VRRS:  -13.4 || Week_Ago_VRRS:  -18.13  ||  4.73\n",
      "SDS  || VRRS:  16.51 || Week_Ago_VRRS:  24.56  ||  -8.05\n",
      "SQQQ  || VRRS:  15.35 || Week_Ago_VRRS:  32.86  ||  -17.51\n",
      "SOXS  || VRRS:  29.87 || Week_Ago_VRRS:  40.96  ||  -11.1\n",
      "XLE  || VRRS:  1.77 || Week_Ago_VRRS:  7.44  ||  -5.68\n",
      "USO  || VRRS:  10.03 || Week_Ago_VRRS:  19.46  ||  -9.43\n",
      "XBI  || VRRS:  10.22 || Week_Ago_VRRS:  0.51  ||  9.71\n",
      "XOP  || VRRS:  -0.93 || Week_Ago_VRRS:  6.33  ||  -7.26\n",
      "GLD  || VRRS:  -0.27 || Week_Ago_VRRS:  6.01  ||  -6.27\n"
     ]
    }
   ],
   "source": [
    "start_date = \"2017-01-01\"\n",
    "# end_date = \"2022-05-28\"\n",
    "\n",
    "end_date = datetime.today().date()\n",
    "\n",
    "spy = yf.Ticker(\"SPY\")\n",
    "spy = spy.history(start=start_date, end=end_date, interval='5d')['Close'].dropna()\n",
    "\n",
    "for stock in stock_list:\n",
    "    \n",
    "    ticker = stock['Ticker']\n",
    "    \n",
    "    avg_volume = value_to_float(stock['Avg Volume'])\n",
    "    \n",
    "    if avg_volume > 5000000:\n",
    "\n",
    "        stock = yf.Ticker(ticker)    \n",
    "\n",
    "        stock_close = stock.history(start=start_date, end=end_date, interval='5d')['Close'].dropna()\n",
    "        stock_now = stock.history(start=start_date, end=end_date, interval='5d').dropna()\n",
    "\n",
    "        # Calculate the VRRS indicator:\n",
    "        rolling_length = 21 \n",
    "\n",
    "        vrrs = cal_VRRS(stock_close, spy, rolling_length).iloc[-1]\n",
    "        week_ago_VRRS = cal_VRRS(stock_close.iloc[:-1], spy.iloc[:-1], rolling_length).iloc[-1]\n",
    "\n",
    "        difference = float(vrrs) - float(week_ago_VRRS)\n",
    "\n",
    "        if abs(difference) > 4:\n",
    "            print(ticker, ' || VRRS: ', round(vrrs, 2), '|| Week_Ago_VRRS: ', round(week_ago_VRRS, 2), ' || ', round(difference, 2))"
   ]
  },
  {
   "cell_type": "code",
   "execution_count": null,
   "id": "e231114c",
   "metadata": {},
   "outputs": [],
   "source": []
  }
 ],
 "metadata": {
  "kernelspec": {
   "display_name": "Python 3 (ipykernel)",
   "language": "python",
   "name": "python3"
  },
  "language_info": {
   "codemirror_mode": {
    "name": "ipython",
    "version": 3
   },
   "file_extension": ".py",
   "mimetype": "text/x-python",
   "name": "python",
   "nbconvert_exporter": "python",
   "pygments_lexer": "ipython3",
   "version": "3.9.12"
  }
 },
 "nbformat": 4,
 "nbformat_minor": 5
}
