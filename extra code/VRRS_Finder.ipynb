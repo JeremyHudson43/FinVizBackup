{
 "cells": [
  {
   "cell_type": "code",
   "execution_count": 31,
   "id": "c1a67757",
   "metadata": {},
   "outputs": [],
   "source": [
    "from finviz.screener import Screener\n",
    "import os\n",
    "import datetime\n",
    "import pandas as pd\n",
    "import time\n",
    "import yfinance as yf\n",
    "from datetime import datetime\n",
    "from datetime import timedelta\n",
    "import math"
   ]
  },
  {
   "cell_type": "code",
   "execution_count": 32,
   "id": "74b34fe9",
   "metadata": {},
   "outputs": [],
   "source": [
    "def fetch_stocks():\n",
    "    # filters = ['ind_exchangetradedfund','sh_avgvol_o2000']\n",
    "    filters = ['sh_avgvol_o2000', 'ind_stocksonly', 'cap_largeover', 'sh_price_o10']\n",
    "    \n",
    "    stock_list = Screener(filters=filters, table='Performance', order='price')\n",
    "    \n",
    "    return stock_list"
   ]
  },
  {
   "cell_type": "code",
   "execution_count": 33,
   "id": "f0f27dc2",
   "metadata": {},
   "outputs": [],
   "source": [
    "def cal_VRRS(ticker, ref, rolling_length):\n",
    "    ticker_sma = ticker.rolling(rolling_length).mean()\n",
    "    ticker_change = ticker - ticker_sma\n",
    "    \n",
    "    ref_sma = ref.rolling(rolling_length).mean()\n",
    "    ref_change = ref - ref_sma\n",
    "    \n",
    "    return (ticker_change/ticker_sma - ref_change/ref_sma) * 100"
   ]
  },
  {
   "cell_type": "code",
   "execution_count": 34,
   "id": "267952f4",
   "metadata": {},
   "outputs": [],
   "source": [
    "def get_wr(high, low, close, lookback):\n",
    "    highh = high.rolling(lookback).max()\n",
    "    lowl = low.rolling(lookback).min()\n",
    "    wr = 100 * ((close - highh) / (highh - lowl))\n",
    "    return wr"
   ]
  },
  {
   "cell_type": "code",
   "execution_count": 35,
   "id": "22d40567",
   "metadata": {},
   "outputs": [],
   "source": [
    "def value_to_float(x):\n",
    "    if type(x) == float or type(x) == int:\n",
    "        return x\n",
    "    if 'K' in x:\n",
    "        if len(x) > 1:\n",
    "            return float(x.replace('K', '')) * 1000\n",
    "        return 1000.0\n",
    "    if 'M' in x:\n",
    "        if len(x) > 1:\n",
    "            return float(x.replace('M', '')) * 1000000\n",
    "        return 1000000.0\n",
    "    if 'B' in x:\n",
    "        if len(x) > 1:\n",
    "            return float(x.replace('B', '')) * 1000000000\n",
    "        return 1000000000.0\n",
    "    if 'T' in x:\n",
    "        if len(x) > 1:\n",
    "            return float(x.replace('T', '')) * 1000000000000\n",
    "        return 1000000000000000.0\n",
    "\n",
    "    return 0.0"
   ]
  },
  {
   "cell_type": "code",
   "execution_count": 36,
   "id": "ec3d910a",
   "metadata": {},
   "outputs": [],
   "source": [
    "ticker_dict = {}"
   ]
  },
  {
   "cell_type": "code",
   "execution_count": 37,
   "id": "d0114513",
   "metadata": {},
   "outputs": [
    {
     "name": "stderr",
     "output_type": "stream",
     "text": [
      "100%|██████████████████████████████████████████████████████████████████████████████████| 19/19 [00:07<00:00,  2.70it/s]\n"
     ]
    }
   ],
   "source": [
    "stock_list = fetch_stocks()"
   ]
  },
  {
   "cell_type": "code",
   "execution_count": 38,
   "id": "db5f9dd0",
   "metadata": {},
   "outputs": [
    {
     "name": "stdout",
     "output_type": "stream",
     "text": [
      "SNAP  || VRRS:  2.93 || Previous VRRS:  8.01  || Distance 5.08 || Long\n",
      "CPNG  || VRRS:  12.81 || Previous VRRS:  18.19  || Distance 5.39 || Long\n",
      "BEKE  || VRRS:  -10.18 || Previous VRRS:  -1.22  || Distance 8.96 || Long\n",
      "PLUG  || VRRS:  8.33 || Previous VRRS:  15.47  || Distance 7.14 || Long\n",
      "PINS  || VRRS:  -4.58 || Previous VRRS:  2.97  || Distance 7.55 || Long\n",
      "LCID  || VRRS:  2.9 || Previous VRRS:  9.7  || Distance 6.8 || Long\n",
      "NIO  || VRRS:  -3.12 || Previous VRRS:  5.42  || Distance 8.54 || Long\n",
      "BILI  || VRRS:  -9.59 || Previous VRRS:  -1.67  || Distance 7.92 || Long\n",
      "TCOM  || VRRS:  0.45 || Previous VRRS:  6.26  || Distance 5.82 || Long\n",
      "XPEV  || VRRS:  -2.81 || Previous VRRS:  5.77  || Distance 8.57 || Long\n",
      "RIVN  || VRRS:  4.05 || Previous VRRS:  11.56  || Distance 7.51 || Long\n",
      "LVS  || VRRS:  -3.92 || Previous VRRS:  1.09  || Distance 5.01 || Long\n",
      "SHOP  || VRRS:  -4.66 || Previous VRRS:  2.68  || Distance 7.34 || Long\n",
      "TWTR  || VRRS:  -13.98 || Previous VRRS:  -5.8  || Distance 8.18 || Long\n",
      "APP  || VRRS:  -3.6 || Previous VRRS:  1.66  || Distance 5.26 || Long\n",
      "LI  || VRRS:  3.41 || Previous VRRS:  7.48  || Distance 4.07 || Long\n",
      "RBLX  || VRRS:  14.75 || Previous VRRS:  24.34  || Distance 9.6 || Long\n",
      "U  || VRRS:  3.7 || Previous VRRS:  11.74  || Distance 8.04 || Long\n",
      "YUMC  || VRRS:  0.83 || Previous VRRS:  6.59  || Distance 5.76 || Long\n",
      "COIN  || VRRS:  -2.37 || Previous VRRS:  7.25  || Distance 9.62 || Long\n",
      "PDD  || VRRS:  -12.03 || Previous VRRS:  -3.5  || Distance 8.54 || Long\n",
      "MTCH  || VRRS:  -5.21 || Previous VRRS:  -0.3  || Distance 4.91 || Long\n",
      "DASH  || VRRS:  5.55 || Previous VRRS:  9.78  || Distance 4.22 || Long\n",
      "SE  || VRRS:  -1.9 || Previous VRRS:  2.49  || Distance 4.38 || Long\n",
      "TWLO  || VRRS:  -4.09 || Previous VRRS:  1.02  || Distance 5.11 || Long\n",
      "ROKU  || VRRS:  -2.18 || Previous VRRS:  5.45  || Distance 7.64 || Long\n",
      "ZM  || VRRS:  -5.35 || Previous VRRS:  3.7  || Distance 9.06 || Long\n",
      "BABA  || VRRS:  -2.67 || Previous VRRS:  5.82  || Distance 8.49 || Long\n",
      "BIDU  || VRRS:  -2.64 || Previous VRRS:  1.7  || Distance 4.35 || Long\n",
      "TSLA  || VRRS:  0.43 || Previous VRRS:  6.03  || Distance 5.59 || Long\n"
     ]
    }
   ],
   "source": [
    "start_date = \"2017-01-01\"\n",
    "# end_date = \"2022-07-12\"\n",
    "\n",
    "interval_time = '1d'\n",
    "\n",
    "end_date = datetime.today().date()\n",
    "end_date += timedelta(days = 1)\n",
    "\n",
    "spy = yf.Ticker(\"SPY\")\n",
    "spy = spy.history(start=start_date, end=end_date, interval=interval_time)['Close'].dropna()\n",
    "\n",
    "for stock in stock_list:\n",
    "    \n",
    "    ticker = stock['Ticker']\n",
    "    \n",
    "    # avg_volume = value_to_float(stock['Avg Volume'])\n",
    "    # if avg_volume > 2000000:\n",
    "\n",
    "    stock = yf.Ticker(ticker)    \n",
    "\n",
    "    stock_close = stock.history(start=start_date, end=end_date, interval=interval_time)['Close'].dropna()\n",
    "    stock_now = stock.history(start=start_date, end=end_date, interval=interval_time).dropna()\n",
    "    \n",
    "    williams = get_wr(stock_now['High'], stock_now['Low'], stock_now['Close'], 2).iloc[-1]\n",
    "\n",
    "    # Calculate the VRRS indicator:\n",
    "    rolling_length = 21 \n",
    "\n",
    "    vrrs = cal_VRRS(stock_close, spy, rolling_length).iloc[-1]\n",
    "    previous_VRRS = cal_VRRS(stock_close.iloc[:-1], spy.iloc[:-1], rolling_length).iloc[-1]\n",
    "\n",
    "    difference = vrrs > previous_VRRS\n",
    "    difference_two = previous_VRRS > vrrs\n",
    "    \n",
    "    eDistance = math.dist([vrrs], [previous_VRRS])\n",
    "\n",
    "    if williams >= -30 and difference and eDistance > 4:\n",
    "        # print(ticker)\n",
    "        print(ticker, ' || VRRS: ', round(vrrs, 2), '|| Previous VRRS: ', round(previous_VRRS, 2), ' || Distance', round(eDistance, 2), \"|| Short\")\n",
    "    elif williams <= -70 and difference_two and eDistance > 4:\n",
    "        # print(ticker)\n",
    "        print(ticker, ' || VRRS: ', round(vrrs, 2), '|| Previous VRRS: ', round(previous_VRRS, 2), ' || Distance', round(eDistance, 2), \"|| Long\")"
   ]
  }
 ],
 "metadata": {
  "kernelspec": {
   "display_name": "Python 3 (ipykernel)",
   "language": "python",
   "name": "python3"
  },
  "language_info": {
   "codemirror_mode": {
    "name": "ipython",
    "version": 3
   },
   "file_extension": ".py",
   "mimetype": "text/x-python",
   "name": "python",
   "nbconvert_exporter": "python",
   "pygments_lexer": "ipython3",
   "version": "3.9.12"
  }
 },
 "nbformat": 4,
 "nbformat_minor": 5
}
